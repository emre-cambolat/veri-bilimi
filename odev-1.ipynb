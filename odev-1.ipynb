{
 "cells": [
  {
   "cell_type": "code",
   "execution_count": 2,
   "metadata": {},
   "outputs": [
    {
     "name": "stdout",
     "output_type": "stream",
     "text": [
      "TC:  56798776723 , Ad Soyad:  Emre   Cambolat , Yaş:  23 , Maaş:  3200 , Çalışma Saati:  32 , Vergisiz Maaş:  3188.0\n",
      "TC:  23478075633 , Ad Soyad:  Veli   Bacik , Yaş:  27 , Maaş:  9000.0 , Vergisiz Maaş:  6789.6\n"
     ]
    }
   ],
   "source": [
    "# https://github.com/emre-cambolat/veri-bilimi\n",
    "\n",
    "class Calisan:\n",
    "    def __init__(self, _tcKimlikNo, _ad, _soyad, _yas, _maas, _calismaSaati):\n",
    "        self.tcKimlikNo = int(_tcKimlikNo)\n",
    "        self.ad = str(_ad)\n",
    "        self.soyad = str(_soyad)\n",
    "        self.yas = int(_yas)\n",
    "        self.maas = float(_maas)\n",
    "        self.calismaSaati = int(_calismaSaati)\n",
    "\n",
    "    vergiMiktari = 0\n",
    "    vergisizMaas = 0\n",
    "\n",
    "    def vergiHesapla(self):\n",
    "        global vergiMiktari\n",
    "        if self.maas < 8000:\n",
    "            vergiMiktari = self.maas * 0.12\n",
    "        else:\n",
    "            vergiMiktari = self.maas * 0.18\n",
    "        # print('Vergi Miktarı: ' + str(vergiMiktari))\n",
    "        self.vergiMiktari = vergiMiktari\n",
    "\n",
    "    def sonDurumMaas(self):\n",
    "        self.vergisizMaas = self.maas - self.vergiMiktari\n",
    "        # print(\"Son Durum Maaş: \" + str(vergisizMaas))\n",
    "\n",
    "    def goster(self):\n",
    "        self.vergiHesapla()\n",
    "        self.sonDurumMaas()\n",
    "        print(\"TC: \", self.tcKimlikNo, \", Ad Soyad: \", self.ad, \" \", self.soyad, \", Yaş: \",\n",
    "              self.yas, \", Maaş: \", self.maas, \", Çalışma Saati: \", self.calismaSaati, \", Vergisiz Maaş: \", self.vergisizMaas)\n",
    "\n",
    "\n",
    "class PartTimeCalisan(Calisan):\n",
    "    def __init__(self, _tcKimlikNo, _ad, _soyad, _yas, _saatlikUcret, _calismaSaati):\n",
    "        super().__init__(_tcKimlikNo, _ad, _soyad, _yas,_saatlikUcret , _calismaSaati)\n",
    "        self.saatlikUcret = int(_saatlikUcret)\n",
    "\n",
    "    def sonDurumMaas(self):\n",
    "        self.maas = self.saatlikUcret * self.calismaSaati\n",
    "        super().sonDurumMaas()\n",
    "\n",
    "\n",
    "class FullTimeCalisan(Calisan):\n",
    "    def __init__(self, _tcKimlikNo, _ad, _soyad, _yas, _maas):\n",
    "        super().__init__(_tcKimlikNo, _ad, _soyad, _yas, _maas, 0)\n",
    "\n",
    "    def goster(self):\n",
    "        self.vergiHesapla()\n",
    "        self.sonDurumMaas()\n",
    "        print(\"TC: \", self.tcKimlikNo, \", Ad Soyad: \", self.ad, \" \", self.soyad, \", Yaş: \",\n",
    "              self.yas, \", Maaş: \", self.maas, \", Vergisiz Maaş: \", self.vergisizMaas)\n",
    "\n",
    "    def sonDurumMaas(self):\n",
    "        super().sonDurumMaas()\n",
    "        self.vergisizMaas = self.vergisizMaas - self.vergisizMaas * 0.08\n",
    "        # print(\"Son Durum Maaş: \", str(self.vergisizMaas))\n",
    "\n",
    "\n",
    "partTimeCalisan = PartTimeCalisan(56798776723, \"Emre\", \"Cambolat\", 23, 100, 32)\n",
    "fullTimeCalisan = FullTimeCalisan(23478075633, \"Veli\", \"Bacik\", 27, 9000)\n",
    "\n",
    "\n",
    "partTimeCalisan.goster()\n",
    "fullTimeCalisan.goster()\n",
    "\n"
   ]
  }
 ],
 "metadata": {
  "kernelspec": {
   "display_name": "Python 3.10.8 64-bit (microsoft store)",
   "language": "python",
   "name": "python3"
  },
  "language_info": {
   "codemirror_mode": {
    "name": "ipython",
    "version": 3
   },
   "file_extension": ".py",
   "mimetype": "text/x-python",
   "name": "python",
   "nbconvert_exporter": "python",
   "pygments_lexer": "ipython3",
   "version": "3.10.8"
  },
  "orig_nbformat": 4,
  "vscode": {
   "interpreter": {
    "hash": "8e81ce80b9cf6acf555c791ee6909221e64751cc53fe0c3cc14516e9c42af75c"
   }
  }
 },
 "nbformat": 4,
 "nbformat_minor": 2
}
